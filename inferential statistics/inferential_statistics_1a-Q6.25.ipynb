{
 "cells": [
  {
   "cell_type": "markdown",
   "metadata": {},
   "source": [
    "# Inferential Statistics Ia - Frequentism"
   ]
  },
  {
   "cell_type": "markdown",
   "metadata": {},
   "source": [
    "## Learning objectives"
   ]
  },
  {
   "cell_type": "markdown",
   "metadata": {},
   "source": [
    "Welcome to the first Frequentist inference mini-project! Over the course of working on this mini-project and the next frequentist mini-project, you'll learn the fundamental concepts associated with frequentist inference. The following list includes the topics you will become familiar with as you work through these two mini-projects:\n",
    "* the _z_-statistic\n",
    "* the _t_-statistic\n",
    "* the difference and relationship between the two\n",
    "* the Central Limit Theorem, including its assumptions and consequences\n",
    "* how to estimate the population mean and standard deviation from a sample\n",
    "* the concept of a sampling distribution of a test statistic, particularly for the mean\n",
    "* how to combine these concepts to calculate a confidence interval"
   ]
  },
  {
   "cell_type": "markdown",
   "metadata": {},
   "source": [
    "## Prerequisites"
   ]
  },
  {
   "cell_type": "markdown",
   "metadata": {},
   "source": [
    "For working through this notebook, you are expected to have a very basic understanding of:\n",
    "* what a random variable is\n",
    "* what a probability density function (pdf) is\n",
    "* what the cumulative density function is\n",
    "* a high-level sense of what the Normal distribution\n",
    "\n",
    "If these concepts are new to you, please take a few moments to Google these topics in order to get a sense of what they are and how you might use them.\n",
    "\n",
    "While it's great if you have previous knowledge about sampling distributions, this assignment will introduce the concept and set you up to practice working using sampling distributions. This notebook was designed to bridge the gap between having a basic understanding of probability and random variables and being able to apply these concepts in Python. The second frequentist inference mini-project focuses on a real-world application of this type of inference to give you further practice using these concepts. "
   ]
  },
  {
   "cell_type": "markdown",
   "metadata": {},
   "source": [
    "For this notebook, we will use data sampled from a known normal distribution. This allows us to compare our results with theoretical expectations."
   ]
  },
  {
   "cell_type": "markdown",
   "metadata": {},
   "source": [
    "## I An introduction to sampling from the Normal distribution"
   ]
  },
  {
   "cell_type": "markdown",
   "metadata": {},
   "source": [
    "First, let's explore the ways we can generate the Normal distribution. While there's a fair amount of interest in [sklearn](https://scikit-learn.org/stable/) within the machine learning community, you're likely to have heard of [scipy](https://docs.scipy.org/doc/scipy-0.15.1/reference/index.html) if you're coming from the sciences. For this assignment, you'll use [scipy.stats](https://docs.scipy.org/doc/scipy-0.15.1/reference/tutorial/stats.html) to complete your work."
   ]
  },
  {
   "cell_type": "code",
   "execution_count": 2,
   "metadata": {},
   "outputs": [],
   "source": [
    "from scipy.stats import norm\n",
    "from scipy.stats import t\n",
    "import numpy as np\n",
    "import pandas as pd\n",
    "from numpy.random import seed\n",
    "import matplotlib.pyplot as plt"
   ]
  },
  {
   "cell_type": "markdown",
   "metadata": {},
   "source": [
    "__Q:__ Call up the documentation for the `norm` function imported above. What is the second listed method?"
   ]
  },
  {
   "cell_type": "code",
   "execution_count": 3,
   "metadata": {},
   "outputs": [
    {
     "data": {
      "text/plain": [
       "'A normal continuous random variable.\\n\\n    The location (``loc``) keyword specifies the mean.\\n    The scale (``scale``) keyword specifies the standard deviation.\\n\\n    As an instance of the `rv_continuous` class, `norm` object inherits from it\\n    a collection of generic methods (see below for the full list),\\n    and completes them with details specific for this particular distribution.\\n    \\n    Methods\\n    -------\\n    rvs(loc=0, scale=1, size=1, random_state=None)\\n        Random variates.\\n    pdf(x, loc=0, scale=1)\\n        Probability density function.\\n    logpdf(x, loc=0, scale=1)\\n        Log of the probability density function.\\n    cdf(x, loc=0, scale=1)\\n        Cumulative distribution function.\\n    logcdf(x, loc=0, scale=1)\\n        Log of the cumulative distribution function.\\n    sf(x, loc=0, scale=1)\\n        Survival function  (also defined as ``1 - cdf``, but `sf` is sometimes more accurate).\\n    logsf(x, loc=0, scale=1)\\n        Log of the survival function.\\n    ppf(q, loc=0, scale=1)\\n        Percent point function (inverse of ``cdf`` --- percentiles).\\n    isf(q, loc=0, scale=1)\\n        Inverse survival function (inverse of ``sf``).\\n    moment(n, loc=0, scale=1)\\n        Non-central moment of order n\\n    stats(loc=0, scale=1, moments=\\'mv\\')\\n        Mean(\\'m\\'), variance(\\'v\\'), skew(\\'s\\'), and/or kurtosis(\\'k\\').\\n    entropy(loc=0, scale=1)\\n        (Differential) entropy of the RV.\\n    fit(data, loc=0, scale=1)\\n        Parameter estimates for generic data.\\n    expect(func, args=(), loc=0, scale=1, lb=None, ub=None, conditional=False, **kwds)\\n        Expected value of a function (of one argument) with respect to the distribution.\\n    median(loc=0, scale=1)\\n        Median of the distribution.\\n    mean(loc=0, scale=1)\\n        Mean of the distribution.\\n    var(loc=0, scale=1)\\n        Variance of the distribution.\\n    std(loc=0, scale=1)\\n        Standard deviation of the distribution.\\n    interval(alpha, loc=0, scale=1)\\n        Endpoints of the range that contains alpha percent of the distribution\\n\\n    Notes\\n    -----\\n    The probability density function for `norm` is:\\n\\n    .. math::\\n\\n        f(x) = \\\\frac{\\\\exp(-x^2/2)}{\\\\sqrt{2\\\\pi}}\\n\\n    for a real number :math:`x`.\\n\\n    The probability density above is defined in the \"standardized\" form. To shift\\n    and/or scale the distribution use the ``loc`` and ``scale`` parameters.\\n    Specifically, ``norm.pdf(x, loc, scale)`` is identically\\n    equivalent to ``norm.pdf(y) / scale`` with\\n    ``y = (x - loc) / scale``.\\n\\n    Examples\\n    --------\\n    >>> from scipy.stats import norm\\n    >>> import matplotlib.pyplot as plt\\n    >>> fig, ax = plt.subplots(1, 1)\\n    \\n    Calculate a few first moments:\\n    \\n    \\n    >>> mean, var, skew, kurt = norm.stats(moments=\\'mvsk\\')\\n    \\n    Display the probability density function (``pdf``):\\n    \\n    >>> x = np.linspace(norm.ppf(0.01),\\n    ...                 norm.ppf(0.99), 100)\\n    >>> ax.plot(x, norm.pdf(x),\\n    ...        \\'r-\\', lw=5, alpha=0.6, label=\\'norm pdf\\')\\n    \\n    Alternatively, the distribution object can be called (as a function)\\n    to fix the shape, location and scale parameters. This returns a \"frozen\"\\n    RV object holding the given parameters fixed.\\n    \\n    Freeze the distribution and display the frozen ``pdf``:\\n    \\n    >>> rv = norm()\\n    >>> ax.plot(x, rv.pdf(x), \\'k-\\', lw=2, label=\\'frozen pdf\\')\\n    \\n    Check accuracy of ``cdf`` and ``ppf``:\\n    \\n    >>> vals = norm.ppf([0.001, 0.5, 0.999])\\n    >>> np.allclose([0.001, 0.5, 0.999], norm.cdf(vals))\\n    True\\n    \\n    Generate random numbers:\\n    \\n    >>> r = norm.rvs(size=1000)\\n    \\n    And compare the histogram:\\n    \\n    >>> ax.hist(r, density=True, histtype=\\'stepfilled\\', alpha=0.2)\\n    >>> ax.legend(loc=\\'best\\', frameon=False)\\n    >>> plt.show()\\n    \\n\\n    '"
      ]
     },
     "execution_count": 3,
     "metadata": {},
     "output_type": "execute_result"
    }
   ],
   "source": [
    "norm.__doc__"
   ]
  },
  {
   "cell_type": "markdown",
   "metadata": {},
   "source": [
    "__A:__ pdf"
   ]
  },
  {
   "cell_type": "markdown",
   "metadata": {},
   "source": [
    "__Q:__ Use the method that generates random variates to draw five samples from the standard normal distribution."
   ]
  },
  {
   "cell_type": "code",
   "execution_count": 4,
   "metadata": {},
   "outputs": [
    {
     "data": {
      "text/plain": [
       "array([ 0.47663918,  0.43813106, -0.02110873, -0.58824621,  0.99033117])"
      ]
     },
     "execution_count": 4,
     "metadata": {},
     "output_type": "execute_result"
    }
   ],
   "source": [
    "norm.rvs(0,1,size=5)"
   ]
  },
  {
   "cell_type": "markdown",
   "metadata": {},
   "source": [
    "__A:__ norm.rvs(0,1,size=5)"
   ]
  },
  {
   "cell_type": "code",
   "execution_count": 5,
   "metadata": {},
   "outputs": [],
   "source": [
    "seed(47)\n",
    "# draw five samples here\n",
    "samples = norm.rvs(0,1,size=5)"
   ]
  },
  {
   "cell_type": "markdown",
   "metadata": {},
   "source": [
    "__Q:__ What is the mean of this sample? Is it exactly equal to the value you expected? Hint: the sample was drawn from the standard normal distribution."
   ]
  },
  {
   "cell_type": "markdown",
   "metadata": {},
   "source": [
    "__A:__ the mean of the 5 samples drawn is 0.19, which differs from the standard normal distribution mean 0"
   ]
  },
  {
   "cell_type": "code",
   "execution_count": 6,
   "metadata": {},
   "outputs": [
    {
     "name": "stdout",
     "output_type": "stream",
     "text": [
      "0.19355593334131074\n"
     ]
    }
   ],
   "source": [
    "# Calculate and print the mean here, hint: use np.mean()\n",
    "mean = np.mean(samples)\n",
    "print(mean)"
   ]
  },
  {
   "cell_type": "markdown",
   "metadata": {},
   "source": [
    "__Q:__ What is the standard deviation of these numbers? Calculate this manually here as $\\sqrt{\\frac{\\sum_i(x_i - \\bar{x})^2}{n}}$. Hint: np.sqrt() and np.sum() will be useful here and remember that numpy supports [broadcasting](https://docs.scipy.org/doc/numpy/user/basics.broadcasting.html)."
   ]
  },
  {
   "cell_type": "markdown",
   "metadata": {},
   "source": [
    "__A:__ the standard deviation is 0.961"
   ]
  },
  {
   "cell_type": "code",
   "execution_count": 7,
   "metadata": {},
   "outputs": [
    {
     "name": "stdout",
     "output_type": "stream",
     "text": [
      "0.9606195639478641\n"
     ]
    }
   ],
   "source": [
    "difference = samples - mean\n",
    "variance = np.sum(difference**2)/5\n",
    "std = np.sqrt(variance)\n",
    "print(std)"
   ]
  },
  {
   "cell_type": "markdown",
   "metadata": {},
   "source": [
    "Here we have calculated the actual standard deviation of a small (size 5) data set. But in this case, this small data set is actually a sample from our larger (infinite) population. In this case, the population is infinite because we could keep drawing our normal random variates until our computers die. In general, the sample mean we calculate will not be equal to the population mean (as we saw above). A consequence of this is that the sum of squares of the deviations from the _population_ mean will be bigger than the sum of squares of the deviations from the _sample_ mean. In other words, the sum of squares of the deviations from the _sample_ mean is too small to give an unbiased estimate of the _population_ variance. An example of this effect is given [here](https://en.wikipedia.org/wiki/Bessel%27s_correction#Source_of_bias). Scaling our estimate of the variance by the factor $n/(n-1)$ gives an unbiased estimator of the population variance. This factor is known as [Bessel's correction](https://en.wikipedia.org/wiki/Bessel%27s_correction). The consequence of this is that the $n$ in the denominator is replaced by $n-1$.\n",
    "\n",
    "__Q:__ If all we had to go on was our five samples, what would be our best estimate of the population standard deviation? Use Bessel's correction ($n-1$ in the denominator), thus $\\sqrt{\\frac{\\sum_i(x_i - \\bar{x})^2}{n-1}}$."
   ]
  },
  {
   "cell_type": "markdown",
   "metadata": {},
   "source": [
    "__A:__ the best estimate of the population std would be 1.074 when using Bessel's correction"
   ]
  },
  {
   "cell_type": "code",
   "execution_count": 8,
   "metadata": {},
   "outputs": [
    {
     "name": "stdout",
     "output_type": "stream",
     "text": [
      "1.0740053227518152\n"
     ]
    }
   ],
   "source": [
    "difference_bes = samples - mean\n",
    "variance_bes = np.sum(difference**2)/(5-1)\n",
    "std_bes = np.sqrt(variance_bes)\n",
    "print(std_bes)"
   ]
  },
  {
   "cell_type": "markdown",
   "metadata": {},
   "source": [
    "__Q:__ Now use numpy's std function to calculate the standard deviation of our random samples. Which of the above standard deviations did it return?"
   ]
  },
  {
   "cell_type": "markdown",
   "metadata": {},
   "source": [
    "__A:__ it returns the std that without Bessel's correction"
   ]
  },
  {
   "cell_type": "code",
   "execution_count": 9,
   "metadata": {},
   "outputs": [
    {
     "data": {
      "text/plain": [
       "0.9606195639478641"
      ]
     },
     "execution_count": 9,
     "metadata": {},
     "output_type": "execute_result"
    }
   ],
   "source": [
    "np.std(samples)"
   ]
  },
  {
   "cell_type": "markdown",
   "metadata": {},
   "source": [
    "__Q:__ Consult the documentation for np.std() to see how to apply the correction for estimating the population parameter and verify this produces the expected result."
   ]
  },
  {
   "cell_type": "markdown",
   "metadata": {},
   "source": [
    "__A:__ to produce an unbiased estimator, should specift the parameter of ddof to be 1, i.e. np.std(samples,ddof=1)"
   ]
  },
  {
   "cell_type": "code",
   "execution_count": 10,
   "metadata": {},
   "outputs": [
    {
     "data": {
      "text/plain": [
       "'\\n    Compute the standard deviation along the specified axis.\\n\\n    Returns the standard deviation, a measure of the spread of a distribution,\\n    of the array elements. The standard deviation is computed for the\\n    flattened array by default, otherwise over the specified axis.\\n\\n    Parameters\\n    ----------\\n    a : array_like\\n        Calculate the standard deviation of these values.\\n    axis : None or int or tuple of ints, optional\\n        Axis or axes along which the standard deviation is computed. The\\n        default is to compute the standard deviation of the flattened array.\\n\\n        .. versionadded:: 1.7.0\\n\\n        If this is a tuple of ints, a standard deviation is performed over\\n        multiple axes, instead of a single axis or all the axes as before.\\n    dtype : dtype, optional\\n        Type to use in computing the standard deviation. For arrays of\\n        integer type the default is float64, for arrays of float types it is\\n        the same as the array type.\\n    out : ndarray, optional\\n        Alternative output array in which to place the result. It must have\\n        the same shape as the expected output but the type (of the calculated\\n        values) will be cast if necessary.\\n    ddof : int, optional\\n        Means Delta Degrees of Freedom.  The divisor used in calculations\\n        is ``N - ddof``, where ``N`` represents the number of elements.\\n        By default `ddof` is zero.\\n    keepdims : bool, optional\\n        If this is set to True, the axes which are reduced are left\\n        in the result as dimensions with size one. With this option,\\n        the result will broadcast correctly against the input array.\\n\\n        If the default value is passed, then `keepdims` will not be\\n        passed through to the `std` method of sub-classes of\\n        `ndarray`, however any non-default value will be.  If the\\n        sub-class\\' method does not implement `keepdims` any\\n        exceptions will be raised.\\n\\n    Returns\\n    -------\\n    standard_deviation : ndarray, see dtype parameter above.\\n        If `out` is None, return a new array containing the standard deviation,\\n        otherwise return a reference to the output array.\\n\\n    See Also\\n    --------\\n    var, mean, nanmean, nanstd, nanvar\\n    numpy.doc.ufuncs : Section \"Output arguments\"\\n\\n    Notes\\n    -----\\n    The standard deviation is the square root of the average of the squared\\n    deviations from the mean, i.e., ``std = sqrt(mean(abs(x - x.mean())**2))``.\\n\\n    The average squared deviation is normally calculated as\\n    ``x.sum() / N``, where ``N = len(x)``.  If, however, `ddof` is specified,\\n    the divisor ``N - ddof`` is used instead. In standard statistical\\n    practice, ``ddof=1`` provides an unbiased estimator of the variance\\n    of the infinite population. ``ddof=0`` provides a maximum likelihood\\n    estimate of the variance for normally distributed variables. The\\n    standard deviation computed in this function is the square root of\\n    the estimated variance, so even with ``ddof=1``, it will not be an\\n    unbiased estimate of the standard deviation per se.\\n\\n    Note that, for complex numbers, `std` takes the absolute\\n    value before squaring, so that the result is always real and nonnegative.\\n\\n    For floating-point input, the *std* is computed using the same\\n    precision the input has. Depending on the input data, this can cause\\n    the results to be inaccurate, especially for float32 (see example below).\\n    Specifying a higher-accuracy accumulator using the `dtype` keyword can\\n    alleviate this issue.\\n\\n    Examples\\n    --------\\n    >>> a = np.array([[1, 2], [3, 4]])\\n    >>> np.std(a)\\n    1.1180339887498949 # may vary\\n    >>> np.std(a, axis=0)\\n    array([1.,  1.])\\n    >>> np.std(a, axis=1)\\n    array([0.5,  0.5])\\n\\n    In single precision, std() can be inaccurate:\\n\\n    >>> a = np.zeros((2, 512*512), dtype=np.float32)\\n    >>> a[0, :] = 1.0\\n    >>> a[1, :] = 0.1\\n    >>> np.std(a)\\n    0.45000005\\n\\n    Computing the standard deviation in float64 is more accurate:\\n\\n    >>> np.std(a, dtype=np.float64)\\n    0.44999999925494177 # may vary\\n\\n    '"
      ]
     },
     "execution_count": 10,
     "metadata": {},
     "output_type": "execute_result"
    }
   ],
   "source": [
    "np.std.__doc__"
   ]
  },
  {
   "cell_type": "code",
   "execution_count": 11,
   "metadata": {},
   "outputs": [
    {
     "data": {
      "text/plain": [
       "1.0740053227518152"
      ]
     },
     "execution_count": 11,
     "metadata": {},
     "output_type": "execute_result"
    }
   ],
   "source": [
    "np.std(samples,ddof=1)"
   ]
  },
  {
   "cell_type": "markdown",
   "metadata": {},
   "source": [
    "### Summary of section"
   ]
  },
  {
   "cell_type": "markdown",
   "metadata": {},
   "source": [
    "In this section, you've been introduced to the scipy.stats package and used it to draw a small sample from the standard normal distribution. You've calculated the average (the mean) of this sample and seen that this is not exactly equal to the expected population parameter (which we know because we're generating the random variates from a specific, known distribution). You've been introduced to two ways of calculating the standard deviation; one uses $n$ in the denominator and the other uses $n-1$ (Bessel's correction). You've also seen which of these calculations np.std() performs by default and how to get it to generate the other."
   ]
  },
  {
   "cell_type": "markdown",
   "metadata": {},
   "source": [
    "You use $n$ as the denominator if you want to calculate the standard deviation of a sequence of numbers. You use $n-1$ if you are using this sequence of numbers to estimate the population parameter. This brings us to some terminology that can be a little confusing.\n",
    "\n",
    "The population parameter is traditionally written as $\\sigma$ and the sample statistic as $s$. Rather unhelpfully, $s$ is also called the sample standard deviation (using $n-1$) whereas the standard deviation of the sample uses $n$. That's right, we have the sample standard deviation and the standard deviation of the sample and they're not the same thing!\n",
    "\n",
    "The sample standard deviation\n",
    "\\begin{equation}\n",
    "s = \\sqrt{\\frac{\\sum_i(x_i - \\bar{x})^2}{n-1}} \\approx \\sigma,\n",
    "\\end{equation}\n",
    "is our best (unbiased) estimate of the population parameter ($\\sigma$).\n",
    "\n",
    "If your data set _is_ your entire population, you simply want to calculate the population parameter, $\\sigma$, via\n",
    "\\begin{equation}\n",
    "\\sigma = \\sqrt{\\frac{\\sum_i(x_i - \\bar{x})^2}{n}}\n",
    "\\end{equation}\n",
    "as you have complete, full knowledge of your population. In other words, your sample _is_ your population. It's worth noting at this point if your sample is your population then you know absolutely everything about your population, there are no probabilities really to calculate and no inference to be done.\n",
    "\n",
    "If, however, you have sampled _from_ your population, you only have partial knowledge of the state of your population and the standard deviation of your sample is not an unbiased estimate of the standard deviation of the population, in which case you seek to estimate that population parameter via the sample standard deviation, which uses the $n-1$ denominator."
   ]
  },
  {
   "cell_type": "markdown",
   "metadata": {},
   "source": [
    "You're now firmly in frequentist theory territory. Great work so far! Now let's dive deeper."
   ]
  },
  {
   "cell_type": "markdown",
   "metadata": {},
   "source": [
    "## II Sampling distributions"
   ]
  },
  {
   "cell_type": "markdown",
   "metadata": {},
   "source": [
    "So far we've been dealing with the concept of taking a sample from a population to infer the population parameters. One statistic we calculated for a sample was the mean. As our samples will be expected to vary from one draw to another, so will our sample statistics. If we were to perform repeat draws of size $n$ and calculate the mean of each, we would expect to obtain a distribution of values. This is the sampling distribution of the mean. The Central Limit Theorem (CLT) tells us that such a distribution will approach a normal distribution as $n$ increases. For the sampling distribution of the mean, the standard deviation of this distribution is given by\n",
    "\n",
    "\\begin{equation}\n",
    "\\sigma_{mean} = \\frac{\\sigma}{\\sqrt n}\n",
    "\\end{equation}\n",
    "\n",
    "where $\\sigma_{mean}$ is the standard deviation of the sampling distribution of the mean and $\\sigma$ is the standard deviation of the population (the population parameter)."
   ]
  },
  {
   "cell_type": "markdown",
   "metadata": {},
   "source": [
    "This is important because typically we are dealing with samples from populations and all we know about the population is what we see in the sample. From this sample, we want to make inferences about the population. We may do this, for example, by looking at the histogram of the values and by calculating the mean and standard deviation (as estimates of the population parameters), and so we are intrinsically interested in how these quantities vary across samples. In other words, now that we've taken one sample of size $n$ and made some claims about the general population, what if we were to take another sample of size $n$? Would we get the same result? Would we make the same claims about the general population? This brings us to a fundamental question: _when we make some inference about a population based on our sample, how confident can we be that we've got it 'right'?_"
   ]
  },
  {
   "cell_type": "markdown",
   "metadata": {},
   "source": [
    "Let's give our normal distribution a little flavor. Also, for didactic purposes, the standard normal distribution, with its variance equal to its standard deviation of one, would not be a great illustration of a key point. Let us imagine we live in a town of 50000 people and we know the height of everyone in this town. We will have 50000 numbers that tell us everything about our population. We'll simulate these numbers now and put ourselves in one particular town, called 'town 47', where the population mean height is 172 cm and population standard deviation is 5 cm."
   ]
  },
  {
   "cell_type": "code",
   "execution_count": 12,
   "metadata": {},
   "outputs": [],
   "source": [
    "seed(47)\n",
    "pop_heights = norm.rvs(172, 5, size=50000)"
   ]
  },
  {
   "cell_type": "code",
   "execution_count": 13,
   "metadata": {},
   "outputs": [
    {
     "data": {
      "image/png": "[encoded data removed]",
      "text/plain": [
       "<Figure size 432x288 with 1 Axes>"
      ]
     },
     "metadata": {
      "needs_background": "light"
     },
     "output_type": "display_data"
    }
   ],
   "source": [
    "_ = plt.hist(pop_heights, bins=30)\n",
    "_ = plt.xlabel('height (cm)')\n",
    "_ = plt.ylabel('number of people')\n",
    "_ = plt.title('Distribution of heights in entire town population')\n",
    "_ = plt.axvline(172, color='r')\n",
    "_ = plt.axvline(172+5, color='r', linestyle='--')\n",
    "_ = plt.axvline(172-5, color='r', linestyle='--')\n",
    "_ = plt.axvline(172+10, color='r', linestyle='-.')\n",
    "_ = plt.axvline(172-10, color='r', linestyle='-.')"
   ]
  },
  {
   "cell_type": "markdown",
   "metadata": {},
   "source": [
    "Now, 50000 people is rather a lot to chase after with a tape measure. If all you want to know is the average height of the townsfolk, then can you just go out and measure a sample to get a pretty good estimate of the average height?"
   ]
  },
  {
   "cell_type": "code",
   "execution_count": 14,
   "metadata": {},
   "outputs": [],
   "source": [
    "def townsfolk_sampler(n):\n",
    "    return np.random.choice(pop_heights, n)"
   ]
  },
  {
   "cell_type": "markdown",
   "metadata": {},
   "source": [
    "Let's say you go out one day and randomly sample 10 people to measure."
   ]
  },
  {
   "cell_type": "code",
   "execution_count": 15,
   "metadata": {},
   "outputs": [],
   "source": [
    "seed(47)\n",
    "daily_sample1 = townsfolk_sampler(10)"
   ]
  },
  {
   "cell_type": "code",
   "execution_count": 16,
   "metadata": {},
   "outputs": [
    {
     "data": {
      "image/png": "[encoded data removed]",
      "text/plain": [
       "<Figure size 432x288 with 1 Axes>"
      ]
     },
     "metadata": {
      "needs_background": "light"
     },
     "output_type": "display_data"
    }
   ],
   "source": [
    "_ = plt.hist(daily_sample1, bins=10)\n",
    "_ = plt.xlabel('height (cm)')\n",
    "_ = plt.ylabel('number of people')\n",
    "_ = plt.title('Distribution of heights in sample size 10')"
   ]
  },
  {
   "cell_type": "markdown",
   "metadata": {},
   "source": [
    "The sample distribution doesn't look much like what we know (but wouldn't know in real-life) the population distribution looks like. What do we get for the mean?"
   ]
  },
  {
   "cell_type": "markdown",
   "metadata": {},
   "source": [
    "__A:__ The mean is 173.5 cm instead"
   ]
  },
  {
   "cell_type": "code",
   "execution_count": 17,
   "metadata": {},
   "outputs": [
    {
     "data": {
      "text/plain": [
       "173.47911444163503"
      ]
     },
     "execution_count": 17,
     "metadata": {},
     "output_type": "execute_result"
    }
   ],
   "source": [
    "np.mean(daily_sample1)"
   ]
  },
  {
   "cell_type": "markdown",
   "metadata": {},
   "source": [
    "And if we went out and repeated this experiment?"
   ]
  },
  {
   "cell_type": "code",
   "execution_count": 18,
   "metadata": {},
   "outputs": [],
   "source": [
    "daily_sample2 = townsfolk_sampler(10)"
   ]
  },
  {
   "cell_type": "code",
   "execution_count": 19,
   "metadata": {},
   "outputs": [
    {
     "data": {
      "text/plain": [
       "173.7317666636263"
      ]
     },
     "execution_count": 19,
     "metadata": {},
     "output_type": "execute_result"
    }
   ],
   "source": [
    "np.mean(daily_sample2)"
   ]
  },
  {
   "cell_type": "markdown",
   "metadata": {},
   "source": [
    "__Q:__ Simulate performing this random trial every day for a year, calculating the mean of each daily sample of 10, and plot the resultant sampling distribution of the mean."
   ]
  },
  {
   "cell_type": "markdown",
   "metadata": {},
   "source": [
    "__A:__"
   ]
  },
  {
   "cell_type": "code",
   "execution_count": 20,
   "metadata": {},
   "outputs": [],
   "source": [
    "mean_of_day = []"
   ]
  },
  {
   "cell_type": "code",
   "execution_count": 21,
   "metadata": {},
   "outputs": [],
   "source": [
    "seed(47)\n",
    "# take your samples here\n",
    "for i in range(365):\n",
    "    day_sample = townsfolk_sampler(10)\n",
    "    mean_of_day.append(np.mean(day_sample))"
   ]
  },
  {
   "cell_type": "code",
   "execution_count": 22,
   "metadata": {},
   "outputs": [
    {
     "data": {
      "text/plain": [
       "(array([ 1.,  2.,  1.,  3.,  4.,  9., 15.,  8., 12., 13., 15., 21., 14.,\n",
       "        18., 26., 25., 28., 16., 35., 25., 23., 10., 12., 10.,  8.,  2.,\n",
       "         5.,  1.,  1.,  2.]),\n",
       " array([167.52865966, 167.81035282, 168.09204599, 168.37373915,\n",
       "        168.65543232, 168.93712548, 169.21881865, 169.50051181,\n",
       "        169.78220498, 170.06389814, 170.3455913 , 170.62728447,\n",
       "        170.90897763, 171.1906708 , 171.47236396, 171.75405713,\n",
       "        172.03575029, 172.31744346, 172.59913662, 172.88082979,\n",
       "        173.16252295, 173.44421611, 173.72590928, 174.00760244,\n",
       "        174.28929561, 174.57098877, 174.85268194, 175.1343751 ,\n",
       "        175.41606827, 175.69776143, 175.9794546 ]),\n",
       " <a list of 30 Patch objects>)"
      ]
     },
     "execution_count": 22,
     "metadata": {},
     "output_type": "execute_result"
    },
    {
     "data": {
      "image/png": "[encoded data removed]",
      "text/plain": [
       "<Figure size 432x288 with 1 Axes>"
      ]
     },
     "metadata": {
      "needs_background": "light"
     },
     "output_type": "display_data"
    }
   ],
   "source": [
    "plt.hist(mean_of_day, bins=30)"
   ]
  },
  {
   "cell_type": "markdown",
   "metadata": {},
   "source": [
    "The above is the distribution of the means of samples of size 10 taken from our population. The Central Limit Theorem tells us the expected mean of this distribution will be equal to the population mean, and standard deviation will be $\\sigma / \\sqrt n$, which, in this case, should be approximately 1.58."
   ]
  },
  {
   "cell_type": "markdown",
   "metadata": {},
   "source": [
    "__Q:__ Verify the above results from the CLT."
   ]
  },
  {
   "cell_type": "markdown",
   "metadata": {},
   "source": [
    "__A:__"
   ]
  },
  {
   "cell_type": "code",
   "execution_count": 23,
   "metadata": {},
   "outputs": [
    {
     "data": {
      "text/plain": [
       "171.8660049358649"
      ]
     },
     "execution_count": 23,
     "metadata": {},
     "output_type": "execute_result"
    }
   ],
   "source": [
    "np.mean(mean_of_day)"
   ]
  },
  {
   "cell_type": "code",
   "execution_count": 24,
   "metadata": {},
   "outputs": [
    {
     "data": {
      "text/plain": [
       "1.5756704135286475"
      ]
     },
     "execution_count": 24,
     "metadata": {},
     "output_type": "execute_result"
    }
   ],
   "source": [
    "np.std(mean_of_day)"
   ]
  },
  {
   "cell_type": "markdown",
   "metadata": {},
   "source": [
    "Remember, in this instance, we knew our population parameters, that the average height really is 172 cm and the standard deviation is 5 cm, and we see some of our daily estimates of the population mean were as low as around 168 and some as high as 176."
   ]
  },
  {
   "cell_type": "markdown",
   "metadata": {},
   "source": [
    "__Q:__ Repeat the above year's worth of samples but for a sample size of 50 (perhaps you had a bigger budget for conducting surveys that year!) Would you expect your distribution of sample means to be wider (more variable) or narrower (more consistent)? Compare your resultant summary statistics to those predicted by the CLT."
   ]
  },
  {
   "cell_type": "markdown",
   "metadata": {},
   "source": [
    "__A:__"
   ]
  },
  {
   "cell_type": "code",
   "execution_count": 25,
   "metadata": {},
   "outputs": [
    {
     "data": {
      "text/plain": [
       "(array([ 5., 18., 29., 57., 70., 68., 65., 41., 10.,  2.]),\n",
       " array([170.07952859, 170.45187698, 170.82422537, 171.19657376,\n",
       "        171.56892215, 171.94127054, 172.31361893, 172.68596732,\n",
       "        173.05831571, 173.4306641 , 173.80301249]),\n",
       " <a list of 10 Patch objects>)"
      ]
     },
     "execution_count": 25,
     "metadata": {},
     "output_type": "execute_result"
    },
    {
     "data": {
      "image/png": "[encoded data removed]",
      "text/plain": [
       "<Figure size 432x288 with 1 Axes>"
      ]
     },
     "metadata": {
      "needs_background": "light"
     },
     "output_type": "display_data"
    }
   ],
   "source": [
    "seed(47)\n",
    "# calculate daily means from the larger sample size here\n",
    "mean_of_day_2 = []\n",
    "for i in range(365):\n",
    "    day_sample = townsfolk_sampler(50)\n",
    "    mean_of_day_2.append(np.mean(day_sample))\n",
    "plt.hist(mean_of_day_2)"
   ]
  },
  {
   "cell_type": "code",
   "execution_count": 26,
   "metadata": {},
   "outputs": [
    {
     "name": "stdout",
     "output_type": "stream",
     "text": [
      "171.94366080916114 0.6736107539771146\n"
     ]
    }
   ],
   "source": [
    "print (np.mean(mean_of_day_2),np.std(mean_of_day_2))"
   ]
  },
  {
   "cell_type": "markdown",
   "metadata": {},
   "source": [
    "What we've seen so far, then, is that we can estimate population parameters from a sample from the population, and that samples have their own distributions. Furthermore, the larger the sample size, the narrower are those sampling distributions."
   ]
  },
  {
   "cell_type": "markdown",
   "metadata": {},
   "source": [
    "### III Normally testing times!"
   ]
  },
  {
   "cell_type": "markdown",
   "metadata": {},
   "source": [
    "All of the above is well and good. We've been sampling from a population we know is normally distributed, we've come to understand when to use $n$ and when to use $n-1$ in the denominator to calculate the spread of a distribution, and we've  seen the Central Limit Theorem in action for a sampling distribution. All seems very well behaved in Frequentist land. But, well, why should we really care?"
   ]
  },
  {
   "cell_type": "markdown",
   "metadata": {},
   "source": [
    "Remember, we rarely (if ever) actually know our population parameters but you still have to estimate them somehow. If we want to make inferences such as \"is this observation unusual?\" or \"has my population mean changed?\" then you need to have some idea of what the underlying distribution is so you can calculate relevant probabilities. In frequentist inference, you use the formulas above to deduce these population parameters. Take a moment in the next part of this assignment to refresh your understanding of how these probabilities work."
   ]
  },
  {
   "cell_type": "markdown",
   "metadata": {},
   "source": [
    "Recall some basic properties of the standard Normal distribution, such as about 68% of observations being within plus or minus 1 standard deviation of the mean.\n",
    "\n",
    "__Q:__ Using this fact, calculate the probability of observing the value 1 or less in a single observation from the standard normal distribution. Hint: you may find it helpful to sketch the standard normal distribution (the familiar bell shape) and mark the number of standard deviations from the mean on the x-axis and shade the regions of the curve that contain certain percentages of the population."
   ]
  },
  {
   "cell_type": "markdown",
   "metadata": {},
   "source": [
    "__A:__ the probability would be 50+34 = 84%"
   ]
  },
  {
   "cell_type": "code",
   "execution_count": 27,
   "metadata": {},
   "outputs": [
    {
     "data": {
      "image/png": "[encoded data removed]",
      "text/plain": [
       "<Figure size 432x288 with 1 Axes>"
      ]
     },
     "metadata": {
      "needs_background": "light"
     },
     "output_type": "display_data"
    }
   ],
   "source": [
    "x_axis = np.arange(-6, 6, 0.001)\n",
    "plt.plot(x_axis, norm.pdf(x_axis,0,1))\n",
    "plt.axvline(1, color='r')\n",
    "plt.show()"
   ]
  },
  {
   "cell_type": "markdown",
   "metadata": {},
   "source": [
    "Calculating this probability involved calculating the area under the pdf from the value of 1 and below. To put it another way, we need to integrate the pdf. We could just add together the known areas of chunks (from -Inf to 0 and then 0 to $+\\sigma$ in the example above. One way to do this is using look up tables (literally). Fortunately, scipy has this functionality built in with the cdf() function."
   ]
  },
  {
   "cell_type": "markdown",
   "metadata": {},
   "source": [
    "__Q:__ Use the cdf() function to answer the question above again and verify you get the same answer."
   ]
  },
  {
   "cell_type": "markdown",
   "metadata": {},
   "source": [
    "__A:__"
   ]
  },
  {
   "cell_type": "code",
   "execution_count": 28,
   "metadata": {},
   "outputs": [
    {
     "data": {
      "text/plain": [
       "0.8413447460685429"
      ]
     },
     "execution_count": 28,
     "metadata": {},
     "output_type": "execute_result"
    }
   ],
   "source": [
    "norm.cdf(1, loc=0, scale=1)"
   ]
  },
  {
   "cell_type": "markdown",
   "metadata": {},
   "source": [
    "__Q:__ Using our knowledge of the population parameters for our townsfolk's heights, what is the probability of selecting one person at random and their height being 177 cm or less? Calculate this using both of the approaches given above."
   ]
  },
  {
   "cell_type": "markdown",
   "metadata": {},
   "source": [
    "__A:__"
   ]
  },
  {
   "cell_type": "code",
   "execution_count": 29,
   "metadata": {},
   "outputs": [
    {
     "data": {
      "image/png": "[encoded data removed]",
      "text/plain": [
       "<Figure size 432x288 with 1 Axes>"
      ]
     },
     "metadata": {
      "needs_background": "light"
     },
     "output_type": "display_data"
    }
   ],
   "source": [
    "x = np.arange(172-3*5, 172+3*5, 0.001)\n",
    "plt.plot(x, norm.pdf(x,172,5))\n",
    "plt.axvline(177, color='r')\n",
    "plt.show()"
   ]
  },
  {
   "cell_type": "code",
   "execution_count": 30,
   "metadata": {},
   "outputs": [
    {
     "data": {
      "text/plain": [
       "0.8413447460685429"
      ]
     },
     "execution_count": 30,
     "metadata": {},
     "output_type": "execute_result"
    }
   ],
   "source": [
    "norm.cdf(177,172,5)"
   ]
  },
  {
   "cell_type": "markdown",
   "metadata": {},
   "source": [
    "__Q:__ Turning this question around. Let's say we randomly pick one person and measure their height and find they are 2.00 m tall? How surprised should we be at this result, given what we know about the population distribution? In other words, how likely would it be to obtain a value at least as extreme as this? Express this as a probability."
   ]
  },
  {
   "cell_type": "markdown",
   "metadata": {},
   "source": [
    "__A:__"
   ]
  },
  {
   "cell_type": "code",
   "execution_count": 31,
   "metadata": {},
   "outputs": [
    {
     "data": {
      "text/plain": [
       "1.0717590258310887e-08"
      ]
     },
     "execution_count": 31,
     "metadata": {},
     "output_type": "execute_result"
    }
   ],
   "source": [
    "norm.sf(200,172,5)"
   ]
  },
  {
   "cell_type": "markdown",
   "metadata": {},
   "source": [
    "We could calculate this probability by virtue of knowing the population parameters. We were then able to use the known properties of the relevant normal distribution to calculate the probability of observing a value at least as extreme as our test value. We have essentially just performed a z-test (albeit without having prespecified a threshold for our \"level of surprise\")!"
   ]
  },
  {
   "cell_type": "markdown",
   "metadata": {},
   "source": [
    "We're about to come to a pinch, though here. We've said a couple of times that we rarely, if ever, know the true population parameters; we have to estimate them from our sample and we cannot even begin to estimate the standard deviation from a single observation. This is very true and usually we have sample sizes larger than one. This means we can calculate the mean of the sample as our best estimate of the population mean and the standard deviation as our best estimate of the population standard deviation. In other words, we are now coming to deal with the sampling distributions we mentioned above as we are generally concerned with the properties of the sample means we obtain.\n",
    "\n",
    "Above, we highlighted one result from the CLT, whereby the sampling distribution (of the mean) becomes narrower and narrower with the square root of the sample size. We remind ourselves that another result from the CLT is that _even if the underlying population distribution is not normal, the sampling distribution will tend to become normal with sufficiently large sample size_. This is the key driver for us 'requiring' a certain sample size, for example you may frequently see a minimum sample size of 30 stated in many places. In reality this is simply a rule of thumb; if the underlying distribution is approximately normal then your sampling distribution will already be pretty normal, but if the underlying distribution is heavily skewed then you'd want to increase your sample size."
   ]
  },
  {
   "cell_type": "markdown",
   "metadata": {},
   "source": [
    "__Q:__ Let's now start from the position of knowing nothing about the heights of people in our town.\n",
    "* Use our favorite random seed of 47, to randomly sample the heights of 50 townsfolk\n",
    "* Estimate the population mean using np.mean\n",
    "* Estimate the population standard deviation using np.std (remember which denominator to use!)\n",
    "* Calculate the (95%) [margin of error](https://www.statisticshowto.datasciencecentral.com/probability-and-statistics/hypothesis-testing/margin-of-error/#WhatMofE) (use the exact critial z value to 2 decimal places - [look this up](https://www.statisticshowto.datasciencecentral.com/probability-and-statistics/find-critical-values/) or use norm.ppf())\n",
    "* Calculate the 95% Confidence Interval of the mean\n",
    "* Does this interval include the true population mean?"
   ]
  },
  {
   "cell_type": "markdown",
   "metadata": {},
   "source": [
    "__A:__"
   ]
  },
  {
   "cell_type": "code",
   "execution_count": 32,
   "metadata": {},
   "outputs": [
    {
     "data": {
      "text/plain": [
       "172.7815108576788"
      ]
     },
     "execution_count": 32,
     "metadata": {},
     "output_type": "execute_result"
    }
   ],
   "source": [
    "seed(47)\n",
    "# take your sample now\n",
    "height = townsfolk_sampler(50)\n",
    "np.mean(height)"
   ]
  },
  {
   "cell_type": "code",
   "execution_count": 33,
   "metadata": {},
   "outputs": [
    {
     "data": {
      "text/plain": [
       "4.195424364433547"
      ]
     },
     "execution_count": 33,
     "metadata": {},
     "output_type": "execute_result"
    }
   ],
   "source": [
    "np.std(height,ddof=1)"
   ]
  },
  {
   "cell_type": "code",
   "execution_count": 48,
   "metadata": {},
   "outputs": [
    {
     "data": {
      "text/plain": [
       "1.959963984540054"
      ]
     },
     "execution_count": 48,
     "metadata": {},
     "output_type": "execute_result"
    }
   ],
   "source": [
    "norm.ppf(0.975, 0, 1)"
   ]
  },
  {
   "cell_type": "code",
   "execution_count": 38,
   "metadata": {},
   "outputs": [
    {
     "data": {
      "text/plain": [
       "8.223031754289753"
      ]
     },
     "execution_count": 38,
     "metadata": {},
     "output_type": "execute_result"
    }
   ],
   "source": [
    "1.96*np.std(height,ddof=1)"
   ]
  },
  {
   "cell_type": "code",
   "execution_count": 34,
   "metadata": {},
   "outputs": [
    {
     "data": {
      "text/plain": [
       "(164.5586302035272, 181.0043915118304)"
      ]
     },
     "execution_count": 34,
     "metadata": {},
     "output_type": "execute_result"
    }
   ],
   "source": [
    "norm.interval(0.95, np.mean(height),np.std(height,ddof=1))"
   ]
  },
  {
   "cell_type": "code",
   "execution_count": 35,
   "metadata": {},
   "outputs": [
    {
     "data": {
      "text/plain": [
       "True"
      ]
     },
     "execution_count": 35,
     "metadata": {},
     "output_type": "execute_result"
    }
   ],
   "source": [
    "lower = int(norm.interval(0.95, np.mean(height),np.std(height,ddof=1))[0])\n",
    "upper = int(norm.interval(0.95, np.mean(height),np.std(height,ddof=1))[1])\n",
    "172 in range(lower, upper)"
   ]
  },
  {
   "cell_type": "markdown",
   "metadata": {},
   "source": [
    "__Q:__ Above we calculated the confidence interval using the critical z value. What is the problem with this? What requirement, or requirements, are we (strictly) failing?"
   ]
  },
  {
   "cell_type": "markdown",
   "metadata": {},
   "source": [
    "__A:__ this would assume it is a normal distribution"
   ]
  },
  {
   "cell_type": "markdown",
   "metadata": {},
   "source": [
    "__Q:__ Calculate the 95% confidence interval for the mean using the _t_ distribution. Is this wider or narrower than that based on the normal distribution above? If you're unsure, you may find this [resource](https://www.statisticshowto.datasciencecentral.com/probability-and-statistics/confidence-interval/) useful. For calculating the critical value, remember how you could calculate this for the normal distribution using norm.ppf()."
   ]
  },
  {
   "cell_type": "markdown",
   "metadata": {},
   "source": [
    "__A:__"
   ]
  },
  {
   "cell_type": "code",
   "execution_count": 36,
   "metadata": {},
   "outputs": [
    {
     "data": {
      "text/plain": [
       "'A Student\\'s t continuous random variable.\\n\\n    As an instance of the `rv_continuous` class, `t` object inherits from it\\n    a collection of generic methods (see below for the full list),\\n    and completes them with details specific for this particular distribution.\\n    \\n    Methods\\n    -------\\n    rvs(df, loc=0, scale=1, size=1, random_state=None)\\n        Random variates.\\n    pdf(x, df, loc=0, scale=1)\\n        Probability density function.\\n    logpdf(x, df, loc=0, scale=1)\\n        Log of the probability density function.\\n    cdf(x, df, loc=0, scale=1)\\n        Cumulative distribution function.\\n    logcdf(x, df, loc=0, scale=1)\\n        Log of the cumulative distribution function.\\n    sf(x, df, loc=0, scale=1)\\n        Survival function  (also defined as ``1 - cdf``, but `sf` is sometimes more accurate).\\n    logsf(x, df, loc=0, scale=1)\\n        Log of the survival function.\\n    ppf(q, df, loc=0, scale=1)\\n        Percent point function (inverse of ``cdf`` --- percentiles).\\n    isf(q, df, loc=0, scale=1)\\n        Inverse survival function (inverse of ``sf``).\\n    moment(n, df, loc=0, scale=1)\\n        Non-central moment of order n\\n    stats(df, loc=0, scale=1, moments=\\'mv\\')\\n        Mean(\\'m\\'), variance(\\'v\\'), skew(\\'s\\'), and/or kurtosis(\\'k\\').\\n    entropy(df, loc=0, scale=1)\\n        (Differential) entropy of the RV.\\n    fit(data, df, loc=0, scale=1)\\n        Parameter estimates for generic data.\\n    expect(func, args=(df,), loc=0, scale=1, lb=None, ub=None, conditional=False, **kwds)\\n        Expected value of a function (of one argument) with respect to the distribution.\\n    median(df, loc=0, scale=1)\\n        Median of the distribution.\\n    mean(df, loc=0, scale=1)\\n        Mean of the distribution.\\n    var(df, loc=0, scale=1)\\n        Variance of the distribution.\\n    std(df, loc=0, scale=1)\\n        Standard deviation of the distribution.\\n    interval(alpha, df, loc=0, scale=1)\\n        Endpoints of the range that contains alpha percent of the distribution\\n\\n    Notes\\n    -----\\n    The probability density function for `t` is:\\n\\n    .. math::\\n\\n        f(x, \\\\nu) = \\\\frac{\\\\Gamma((\\\\nu+1)/2)}\\n                        {\\\\sqrt{\\\\pi \\\\nu} \\\\Gamma(\\\\nu)}\\n                    (1+x^2/\\\\nu)^{-(\\\\nu+1)/2}\\n\\n    where :math:`x` is a real number and the degrees of freedom parameter\\n    :math:`\\\\nu` (denoted ``df`` in the implementation) satisfies\\n    :math:`\\\\nu > 0`. :math:`\\\\Gamma` is the gamma function\\n    (`scipy.special.gamma`).\\n\\n    The probability density above is defined in the \"standardized\" form. To shift\\n    and/or scale the distribution use the ``loc`` and ``scale`` parameters.\\n    Specifically, ``t.pdf(x, df, loc, scale)`` is identically\\n    equivalent to ``t.pdf(y, df) / scale`` with\\n    ``y = (x - loc) / scale``.\\n\\n    Examples\\n    --------\\n    >>> from scipy.stats import t\\n    >>> import matplotlib.pyplot as plt\\n    >>> fig, ax = plt.subplots(1, 1)\\n    \\n    Calculate a few first moments:\\n    \\n    >>> df = 2.74\\n    >>> mean, var, skew, kurt = t.stats(df, moments=\\'mvsk\\')\\n    \\n    Display the probability density function (``pdf``):\\n    \\n    >>> x = np.linspace(t.ppf(0.01, df),\\n    ...                 t.ppf(0.99, df), 100)\\n    >>> ax.plot(x, t.pdf(x, df),\\n    ...        \\'r-\\', lw=5, alpha=0.6, label=\\'t pdf\\')\\n    \\n    Alternatively, the distribution object can be called (as a function)\\n    to fix the shape, location and scale parameters. This returns a \"frozen\"\\n    RV object holding the given parameters fixed.\\n    \\n    Freeze the distribution and display the frozen ``pdf``:\\n    \\n    >>> rv = t(df)\\n    >>> ax.plot(x, rv.pdf(x), \\'k-\\', lw=2, label=\\'frozen pdf\\')\\n    \\n    Check accuracy of ``cdf`` and ``ppf``:\\n    \\n    >>> vals = t.ppf([0.001, 0.5, 0.999], df)\\n    >>> np.allclose([0.001, 0.5, 0.999], t.cdf(vals, df))\\n    True\\n    \\n    Generate random numbers:\\n    \\n    >>> r = t.rvs(df, size=1000)\\n    \\n    And compare the histogram:\\n    \\n    >>> ax.hist(r, density=True, histtype=\\'stepfilled\\', alpha=0.2)\\n    >>> ax.legend(loc=\\'best\\', frameon=False)\\n    >>> plt.show()\\n    \\n\\n    '"
      ]
     },
     "execution_count": 36,
     "metadata": {},
     "output_type": "execute_result"
    }
   ],
   "source": [
    "t.__doc__"
   ]
  },
  {
   "cell_type": "code",
   "execution_count": 50,
   "metadata": {},
   "outputs": [
    {
     "data": {
      "text/plain": [
       "(164.35475303137466, 181.20826868398294)"
      ]
     },
     "execution_count": 50,
     "metadata": {},
     "output_type": "execute_result"
    }
   ],
   "source": [
    "t.interval(0.95,df=50,loc=np.mean(height),scale=np.std(height,ddof=1))"
   ]
  },
  {
   "cell_type": "markdown",
   "metadata": {},
   "source": [
    "This is slightly wider than the previous confidence interval. This reflects the greater uncertainty given that we are estimating population parameters from a sample."
   ]
  },
  {
   "cell_type": "markdown",
   "metadata": {},
   "source": [
    "## Learning outcomes"
   ]
  },
  {
   "cell_type": "markdown",
   "metadata": {},
   "source": [
    "Having completed this project notebook, you now have hands-on experience:\n",
    "* sampling and calculating probabilities from a normal distribution\n",
    "* the correct way to estimate the standard deviation of a population (the population parameter) from a sample\n",
    "* what a sampling distribution is and how the Central Limit Theorem applies\n",
    "* how to calculate critical values and confidence intervals"
   ]
  }
 ],
 "metadata": {
  "kernelspec": {
   "display_name": "Python 3",
   "language": "python",
   "name": "python3"
  },
  "language_info": {
   "codemirror_mode": {
    "name": "ipython",
    "version": 3
   },
   "file_extension": ".py",
   "mimetype": "text/x-python",
   "name": "python",
   "nbconvert_exporter": "python",
   "pygments_lexer": "ipython3",
   "version": "3.7.4"
  }
 },
 "nbformat": 4,
 "nbformat_minor": 2
}
